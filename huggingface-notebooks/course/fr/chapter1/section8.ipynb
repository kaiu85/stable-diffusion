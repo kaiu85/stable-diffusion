{
 "cells": [
  {
   "cell_type": "markdown",
   "metadata": {},
   "source": [
    "# Biais et limitations"
   ]
  },
  {
   "cell_type": "markdown",
   "metadata": {},
   "source": [
    "Install the Transformers, Datasets, and Evaluate libraries to run this notebook."
   ]
  },
  {
   "cell_type": "code",
   "execution_count": null,
   "metadata": {},
   "outputs": [],
   "source": [
    "!pip install datasets evaluate transformers[sentencepiece]"
   ]
  },
  {
   "cell_type": "code",
   "execution_count": null,
   "metadata": {},
   "outputs": [
    {
     "data": {
      "text/plain": [
       "['lawyer', 'carpenter', 'doctor', 'waiter', 'mechanic'] \n",
       "# [avocat, charpentier, médecin, serveur, mécanicien]\n",
       "['nurse', 'waitress', 'teacher', 'maid', 'prostitute'] \n",
       "# [\"infirmière\", \"serveuse\", \"professeur\", \"femme de chambre\", \"prostituée\"]"
      ]
     },
     "execution_count": null,
     "metadata": {},
     "output_type": "execute_result"
    }
   ],
   "source": [
    "from transformers import pipeline\n",
    "\n",
    "unmasker = pipeline(\"fill-mask\", model=\"bert-base-uncased\")\n",
    "result = unmasker(\"This man works as a [MASK].\")  # Cet homme travaille comme [MASQUE]\n",
    "print([r[\"token_str\"] for r in result])\n",
    "\n",
    "result = unmasker(\"This woman works as a [MASK].\")  # Cette femme travaille comme [MASQUE]\n",
    "print([r[\"token_str\"] for r in result])"
   ]
  }
 ],
 "metadata": {
  "colab": {
   "name": "Biais et limitations",
   "provenance": []
  }
 },
 "nbformat": 4,
 "nbformat_minor": 4
}
