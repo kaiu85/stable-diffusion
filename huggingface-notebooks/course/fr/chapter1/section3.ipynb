{
 "cells": [
  {
   "cell_type": "markdown",
   "metadata": {},
   "source": [
    "# Que peuvent faire les transformers ?"
   ]
  },
  {
   "cell_type": "markdown",
   "metadata": {},
   "source": [
    "Install the Transformers, Datasets, and Evaluate libraries to run this notebook."
   ]
  },
  {
   "cell_type": "code",
   "execution_count": null,
   "metadata": {},
   "outputs": [],
   "source": [
    "!pip install datasets evaluate transformers[sentencepiece]"
   ]
  },
  {
   "cell_type": "code",
   "execution_count": null,
   "metadata": {},
   "outputs": [
    {
     "data": {
      "text/plain": [
       "[{'label': 'POSITIVE', 'score': 0.9598047137260437}]"
      ]
     },
     "execution_count": null,
     "metadata": {},
     "output_type": "execute_result"
    }
   ],
   "source": [
    "from transformers import pipeline\n",
    "\n",
    "classifier = pipeline(\"sentiment-analysis\")\n",
    "classifier(\n",
    "    \"I've been waiting for a HuggingFace course my whole life.\"\n",
    ")  # J'ai attendu un cours d'HuggingFace toute ma vie."
   ]
  },
  {
   "cell_type": "code",
   "execution_count": null,
   "metadata": {},
   "outputs": [
    {
     "data": {
      "text/plain": [
       "[{'label': 'POSITIVE', 'score': 0.9598047137260437},\n",
       " {'label': 'NEGATIVE', 'score': 0.9994558095932007}]"
      ]
     },
     "execution_count": null,
     "metadata": {},
     "output_type": "execute_result"
    }
   ],
   "source": [
    "classifier(\n",
    "    [\n",
    "        \"I've been waiting for a HuggingFace course my whole life.\",\n",
    "        \"I hate this so much!\",\n",
    "    ]  # « J'ai attendu un cours d'HuggingFace toute ma vie. »,  « Je déteste tellement ça ! »\n",
    ")"
   ]
  },
  {
   "cell_type": "code",
   "execution_count": null,
   "metadata": {},
   "outputs": [
    {
     "data": {
      "text/plain": [
       "{'sequence': 'This is a course about the Transformers library', \n",
       "# C'est un cours sur la bibliothèque Transformers\n",
       " 'labels': ['education', 'business', 'politics'],\n",
       " 'scores': [0.8445963859558105, 0.111976258456707, 0.043427448719739914]}"
      ]
     },
     "execution_count": null,
     "metadata": {},
     "output_type": "execute_result"
    }
   ],
   "source": [
    "from transformers import pipeline\n",
    "\n",
    "classifier = pipeline(\"zero-shot-classification\")\n",
    "classifier(\n",
    "    \"This is a course about the Transformers library\",\n",
    "    # C'est un cours sur la bibliothèque Transformers\n",
    "    candidate_labels=[\"education\", \"politics\", \"business\"],\n",
    ")"
   ]
  },
  {
   "cell_type": "code",
   "execution_count": null,
   "metadata": {},
   "outputs": [
    {
     "data": {
      "text/plain": [
       "[{'generated_text': 'In this course, we will teach you how to understand and use ' \n",
       "\t\t\t\t\t# Dans ce cours, nous vous enseignerons comment comprendre et utiliser\n",
       "                    'data flow and data interchange when handling user data. We '\n",
       "\t\t\t\t\t# flux de données et l'échange de données lors de la manipulation des données utilisateur. Nous \n",
       "                    'will be working with one or more of the most commonly used ' \n",
       "\t\t\t\t\t# travailleront avec un ou plusieurs des plus couramment utilisés\n",
       "                    'data flows — data flows of various types, as seen by the ' \n",
       "\t\t\t\t\t# flux de données - flux de données de différents types, tels qu'ils sont vus par\n",
       "                    'HTTP'}] # HTTP"
      ]
     },
     "execution_count": null,
     "metadata": {},
     "output_type": "execute_result"
    }
   ],
   "source": [
    "from transformers import pipeline\n",
    "\n",
    "generator = pipeline(\"text-generation\")\n",
    "generator(\n",
    "    \"In this course, we will teach you how to\"\n",
    ")  # Dans ce cours, nous vous enseignerons comment"
   ]
  },
  {
   "cell_type": "code",
   "execution_count": null,
   "metadata": {},
   "outputs": [
    {
     "data": {
      "text/plain": [
       "[{'generated_text': 'In this course, we will teach you how to manipulate the world and ' \n",
       "\t\t\t\t\t# Dans ce cours, nous vous enseignerons comment manipuler le monde et\n",
       "                    'move your mental and physical capabilities to your advantage.'}, \n",
       "\t\t\t\t\t# utiliser vos capacités mentales et physiques à votre avantage.\n",
       " {'generated_text': 'In this course, we will teach you how to become an expert and ' \n",
       "\t\t\t\t\t# Dans ce cours, nous vous apprendrons comment devenir un expert et\n",
       "                    'practice realtime, and with a hands on experience on both real ' \n",
       "\t\t\t\t\t# pratique en temps réel, et avec une expérience pratique à la fois sur de vrais\n",
       "                    'time and real'}] \n",
       "\t\t\t\t\t# temps et réel"
      ]
     },
     "execution_count": null,
     "metadata": {},
     "output_type": "execute_result"
    }
   ],
   "source": [
    "from transformers import pipeline\n",
    "\n",
    "generator = pipeline(\"text-generation\", model=\"distilgpt2\")\n",
    "generator(\n",
    "    \"In this course, we will teach you how to\",\n",
    "    # Dans ce cours, nous vous enseignerons comment\n",
    "    max_length=30,\n",
    "    num_return_sequences=2,\n",
    ")"
   ]
  },
  {
   "cell_type": "code",
   "execution_count": null,
   "metadata": {},
   "outputs": [
    {
     "data": {
      "text/plain": [
       "[{'sequence': 'This course will teach you all about mathematical models.', \n",
       "# Ce cours vous apprendra tout sur les modèles mathématiques.\n",
       "  'score': 0.19619831442832947,\n",
       "  'token': 30412,\n",
       "  'token_str': ' mathematical'},\n",
       " {'sequence': 'This course will teach you all about computational models.', \n",
       " # Ce cours vous apprendra tout sur les modèles  de calcul.\n",
       "  'score': 0.04052725434303284,\n",
       "  'token': 38163,\n",
       "  'token_str': ' computational'}]"
      ]
     },
     "execution_count": null,
     "metadata": {},
     "output_type": "execute_result"
    }
   ],
   "source": [
    "from transformers import pipeline\n",
    "\n",
    "unmasker = pipeline(\"fill-mask\")\n",
    "unmasker(\"This course will teach you all about <mask> models.\", top_k=2)"
   ]
  },
  {
   "cell_type": "code",
   "execution_count": null,
   "metadata": {},
   "outputs": [
    {
     "data": {
      "text/plain": [
       "[{'entity_group': 'PER', 'score': 0.99816, 'word': 'Sylvain', 'start': 11, 'end': 18}, \n",
       " {'entity_group': 'ORG', 'score': 0.97960, 'word': 'Hugging Face', 'start': 33, 'end': 45}, \n",
       " {'entity_group': 'LOC', 'score': 0.99321, 'word': 'Brooklyn', 'start': 49, 'end': 57}\n",
       "]"
      ]
     },
     "execution_count": null,
     "metadata": {},
     "output_type": "execute_result"
    }
   ],
   "source": [
    "from transformers import pipeline\n",
    "\n",
    "ner = pipeline(\"ner\", grouped_entities=True)\n",
    "ner(\n",
    "    \"My name is Sylvain and I work at Hugging Face in Brooklyn.\"\n",
    ")  # Je m'appelle Sylvain et je travaille à Hugging Face à Brooklyn."
   ]
  },
  {
   "cell_type": "code",
   "execution_count": null,
   "metadata": {},
   "outputs": [
    {
     "data": {
      "text/plain": [
       "{'score': 0.6385916471481323, 'start': 33, 'end': 45, 'answer': 'Hugging Face'}"
      ]
     },
     "execution_count": null,
     "metadata": {},
     "output_type": "execute_result"
    }
   ],
   "source": [
    "from transformers import pipeline\n",
    "\n",
    "question_answerer = pipeline(\"question-answering\")\n",
    "question_answerer(\n",
    "    question=\"Where do I work?\",  # Où est-ce que je travaille ?\n",
    "    context=\"My name is Sylvain and I work at Hugging Face in Brooklyn\",\n",
    "    # Je m'appelle Sylvain et je travaille à Hugging Face à Brooklyn.\n",
    ")"
   ]
  },
  {
   "cell_type": "code",
   "execution_count": null,
   "metadata": {},
   "outputs": [
    {
     "data": {
      "text/plain": [
       "[{'summary_text': ' America has changed dramatically during recent years . The ' \n",
       "\t\t\t\t  # L'Amérique a changé de façon spectaculaire au cours des dernières années. Le\n",
       "                  'number of engineering graduates in the U.S. has declined in ' \n",
       "\t\t\t\t  # nombre de diplômés en ingénierie aux États-Unis a diminué dans\n",
       "                  'traditional engineering disciplines such as mechanical, civil ' \n",
       "\t\t\t\t  # dans les disciplines traditionnelles de l'ingénierie, telles que le génie mécanique, civil\n",
       "                  ', electrical, chemical, and aeronautical engineering . Rapidly ' \n",
       "\t\t\t\t  # l'électricité, la chimie et l'aéronautique. Les économies\n",
       "                  'developing economies such as China and India, as well as other ' \n",
       "\t\t\t\t  # en développement rapide comme la Chine et l'Inde, ainsi que d'autres\n",
       "                  'industrial countries in Europe and Asia, continue to encourage ' \n",
       "\t\t\t\t  # pays industriels d'Europe et d'Asie, continuent d'encourager\n",
       "                  'and advance engineering.'}] \n",
       "\t\t\t\t  # et à faire progresser l'ingénierie."
      ]
     },
     "execution_count": null,
     "metadata": {},
     "output_type": "execute_result"
    }
   ],
   "source": [
    "from transformers import pipeline\n",
    "\n",
    "summarizer = pipeline(\"summarization\")\n",
    "summarizer(\n",
    "    \"\"\"\n",
    "    America has changed dramatically during recent years. Not only has the number of \n",
    "    graduates in traditional engineering disciplines such as mechanical, civil, \n",
    "    electrical, chemical, and aeronautical engineering declined, but in most of \n",
    "    the premier American universities engineering curricula now concentrate on \n",
    "    and encourage largely the study of engineering science. As a result, there \n",
    "    are declining offerings in engineering subjects dealing with infrastructure, \n",
    "    the environment, and related issues, and greater concentration on high \n",
    "    technology subjects, largely supporting increasingly complex scientific \n",
    "    developments. While the latter is important, it should not be at the expense \n",
    "    of more traditional engineering.\n",
    "\n",
    "    Rapidly developing economies such as China and India, as well as other \n",
    "    industrial countries in Europe and Asia, continue to encourage and advance \n",
    "    the teaching of engineering. Both China and India, respectively, graduate \n",
    "    six and eight times as many traditional engineers as does the United States. \n",
    "    Other industrial countries at minimum maintain their output, while America \n",
    "    suffers an increasingly serious decline in the number of engineering graduates \n",
    "    and a lack of well-educated engineers.\n",
    "\"\"\"\n",
    ")\n",
    "\n",
    "\"\"\"\n",
    "    L'Amérique a changé de façon spectaculaire au cours des dernières années. Non seulement le nombre de \n",
    "    diplômés dans les disciplines traditionnelles de l'ingénierie telles que le génie mécanique, civil, \n",
    "    l'électricité, la chimie et l'aéronautique a diminué, mais dans la plupart \n",
    "    des grandes universités américaines, les programmes d'études d'ingénierie se concentrent désormais sur \n",
    "    et encouragent largement l'étude des sciences de l'ingénieur. Par conséquent, il y a \n",
    "    de moins en moins d'offres dans les sujets d'ingénierie traitant de l'infrastructure, \n",
    "    l'environnement et les questions connexes, et une plus grande concentration sur les sujets de haute \n",
    "    technologie, qui soutiennent en grande partie des développements scientifiques de plus en plus \n",
    "    complexes. Si cette dernière est importante, elle ne doit pas se faire au détriment\n",
    "    de l'ingénierie plus traditionnelle.\n",
    "\n",
    "    Les économies en développement rapide telles que la Chine et l'Inde, ainsi que d'autres \n",
    "    pays industrialisés d'Europe et d'Asie, continuent d'encourager et de promouvoir\n",
    "    l'enseignement de l'ingénierie. La Chine et l'Inde, respectivement, diplôment \n",
    "    six et huit fois plus d'ingénieurs traditionnels que les États-Unis. \n",
    "    Les autres pays industriels maintiennent au minimum leur production, tandis que l'Amérique \n",
    "    souffre d'une baisse de plus en plus importante du nombre de diplômés en ingénierie\n",
    "    et un manque d'ingénieurs bien formés.\n",
    "\"\"\""
   ]
  },
  {
   "cell_type": "code",
   "execution_count": null,
   "metadata": {},
   "outputs": [
    {
     "data": {
      "text/plain": [
       "[{'translation_text': 'This course is produced by Hugging Face.'}]"
      ]
     },
     "execution_count": null,
     "metadata": {},
     "output_type": "execute_result"
    }
   ],
   "source": [
    "from transformers import pipeline\n",
    "\n",
    "translator = pipeline(\"translation\", model=\"Helsinki-NLP/opus-mt-fr-en\")\n",
    "translator(\"Ce cours est produit par Hugging Face.\")"
   ]
  }
 ],
 "metadata": {
  "colab": {
   "name": "Que peuvent faire les transformers ?",
   "provenance": []
  }
 },
 "nbformat": 4,
 "nbformat_minor": 4
}
