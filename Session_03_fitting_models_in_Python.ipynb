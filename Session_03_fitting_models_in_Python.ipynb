{
  "nbformat": 4,
  "nbformat_minor": 0,
  "metadata": {
    "colab": {
      "provenance": [],
      "collapsed_sections": [],
      "include_colab_link": true
    },
    "kernelspec": {
      "name": "python3",
      "display_name": "Python 3"
    },
    "language_info": {
      "name": "python"
    }
  },
  "cells": [
    {
      "cell_type": "markdown",
      "metadata": {
        "id": "view-in-github",
        "colab_type": "text"
      },
      "source": [
        "<a href=\"https://colab.research.google.com/github/kaiu85/stable-diffusion/blob/main/Session_03_fitting_models_in_Python.ipynb\" target=\"_parent\"><img src=\"https://colab.research.google.com/assets/colab-badge.svg\" alt=\"Open In Colab\"/></a>"
      ]
    },
    {
      "cell_type": "markdown",
      "source": [
        "# 4EU+ Day Three - Session 3 -  Fitting Models \n",
        "**Date:** 14.05.2022\n",
        "\n",
        "By: Koen Frolichs (k.frolichs@gmail.com)\n",
        "\n",
        "_Fitting models on behavioral data_: In this session we will fit some RL models on behavioral data. Furthermore, we will also attempt to interpret and visualize the results.\n",
        "\n",
        "We start with pre-constructed models so everyone has the same starting point. But if you have some models from a previous session you can import and run these as well, of course!\n",
        "\n",
        "Stuff we want to do in this session:\n",
        "*    Fit a model on behavioral data using existing functions\n",
        "*    Interpret the results\n",
        "*    Visualize the results\n",
        "\n",
        "## Other Sessions\n",
        "* [Session 01](https://colab.research.google.com/drive/1BDNNJm0Mtl8fBYpQz7hYtXhjqAWls6H4?usp=sharing)\n",
        "* [Session 02](https://colab.research.google.com/drive/1DmgrcqGQhfe1AOYpTgu-cOEv2tbuEtNO?usp=sharing)\n"
      ],
      "metadata": {
        "id": "cpVO76vqGReo"
      }
    },
    {
      "cell_type": "markdown",
      "source": [
        "# Recap of [session 02](https://tinyurl.com/53v64usx)\n",
        "In the last session we build some models that give a potential explanation of how humans learn about others' personality. Let's have a quick look at what these models look like before diving in deeper."
      ],
      "metadata": {
        "id": "NvxhDgcFRy6i"
      }
    },
    {
      "cell_type": "code",
      "source": [
        "# Run this so we have all the important libraries imported right at the beginning\n",
        "from random import random\n",
        "import numpy as np\n",
        "import matplotlib.pyplot as plt"
      ],
      "metadata": {
        "id": "_LURIAOgajNZ"
      },
      "execution_count": null,
      "outputs": []
    },
    {
      "cell_type": "markdown",
      "source": [
        "# Model 1 - Rescorla-Wagner factor learning\n",
        "\n",
        "This model learns one value per [Big-5](https://en.wikipedia.org/wiki/Big_Five_personality_traits) factor.\n",
        "\n",
        "The prediction error is calculated like this:\n",
        "\n",
        "$PE_t = F_t - P_t$\n",
        "\n",
        "And the model updates like this:\n",
        "\n",
        "$P_{t+1,F}=P_{t,F}+α*PE$\n",
        "\n",
        "And added below is the function that captures this model:"
      ],
      "metadata": {
        "id": "gFSshGhRTSaD"
      }
    },
    {
      "cell_type": "code",
      "source": [
        "def RW_model(ratings, reset, alpha):\n",
        "  \"\"\" This is a simple Rescorla-Wagner model that takes as input:\n",
        "  ratings, reset (indicates new factor), alpha (learning rate)\"\"\"\n",
        "  num_trials = len(ratings)\n",
        "  # First we initialize a list of predictions at zero\n",
        "  prediction = [0 for _ in range(num_trials+1)]\n",
        "  # Now we loop over the trials and apply the model\n",
        "  for trial_num in range(num_trials-1):\n",
        "    # If it is the start of a new factor the model predicts the midpoint of the scale\n",
        "    if resets[trial_num] == 1:\n",
        "      prediction[trial_num] = 4.5\n",
        "\n",
        "    # Calculate the PE at a certain trial\n",
        "    PE = ratings[trial_num] - prediction[trial_num]\n",
        "    # Update the next prediction\n",
        "    prediction[trial_num+1] = prediction[trial_num] + (alpha*PE)\n",
        "\n",
        "  return prediction[:-1]"
      ],
      "metadata": {
        "id": "j_VP6BPsTWlR"
      },
      "execution_count": null,
      "outputs": []
    },
    {
      "cell_type": "markdown",
      "source": [
        "Importantly, the model changes its *'behaviour'* when we adjust the α parameter (e.g., if you plot the model with the same input but with a different α the line it draws will be different). This becomes very important later on!"
      ],
      "metadata": {
        "id": "HrWyMYdKURc5"
      }
    },
    {
      "cell_type": "markdown",
      "source": [
        "# Model 2 - RW and Reference Point\n",
        "This model is an extension of the previous model. It still 'learns' over the factors but it also adds a knowledge structure that captures expectations about the average person. We named this knowledge structure **Reference Point (RP)**.\n",
        "\n",
        "The RP gets added as an extra information source to the model. How much it is used compared to the standard model is determined by the γ parameter. In an equation we describe it as:\n",
        "\n",
        "$P_{t+1,F}=γ*RP+(1-γ)*(P_{t,F}+α*PE)$\n",
        "\n",
        "And in code like this:\n"
      ],
      "metadata": {
        "id": "qh9YBSB8U20Z"
      }
    },
    {
      "cell_type": "code",
      "source": [
        "def RW_RP_model(ratings, reset, alpha, rp, gamma):\n",
        "  \"\"\" This is a combined Rescorla-Wagner and RP model that takes as input:\n",
        "  ratings, reset (indicates new factor), alpha (learning rate),\n",
        "  RP (list of reference points), and gamma (weighting variable)\"\"\"\n",
        "  num_trials = len(ratings)\n",
        "  # First we initialize a list of predictions at zero\n",
        "  prediction = [0 for _ in range(num_trials+1)]\n",
        "  pred_w_RP  = [0 for _ in range(num_trials+1)]\n",
        "  # Now we loop over the trials and apply the model\n",
        "  for trial_num in range(num_trials-1):\n",
        "    # If it is the start of a new factor we predict the midpoint of the scale\n",
        "    if resets[trial_num] == 1:\n",
        "      prediction[trial_num] = 4.5\n",
        "\n",
        "    # Calculate the PE at a certain trial\n",
        "    PE = ratings[trial_num] - prediction[trial_num]\n",
        "    # Update the next prediction\n",
        "    prediction[trial_num+1] = prediction[trial_num] + (alpha*PE)\n",
        "    \n",
        "    # Here we add the RP part\n",
        "    pred_w_RP[trial_num] = gamma * rp[trial_num] + ((1-gamma)*prediction[trial_num])\n",
        "\n",
        "  return pred_w_RP[:-1]"
      ],
      "metadata": {
        "id": "jx4_TY8SWxiI"
      },
      "execution_count": null,
      "outputs": []
    },
    {
      "cell_type": "markdown",
      "source": [
        "# Model 3 - RW and Similarity\n",
        "Finally, we looked at a model that adds another knowledge structure. This knowledge structure captures the similarities between items. This means that learning about one item also gives you some information about other items (depending on how related they are). We capture this similarity with a correlation matrix!\n",
        "\n",
        "In an equation it looks like this:\n",
        "\n",
        "$P_{(t+1,All)} = P_{(t,All)} + \\alpha * PE * SIM$\n",
        "\n",
        "And in code:"
      ],
      "metadata": {
        "id": "GXzQmv5GWzqs"
      }
    },
    {
      "cell_type": "code",
      "source": [
        "def RW_SIM_model(ratings, alpha, sim):\n",
        "  \"\"\" This is a combined Rescorla-Wagner and Similarity model that takes as input:\n",
        "  ratings, alpha (learning rate), sim (correlation matrix of items)\"\"\"\n",
        "  num_trials = len(ratings)\n",
        "  # First we initialize a list of predictions at the midpoint!\n",
        "  prediction = [4.5 for _ in range(num_trials)]\n",
        "  # Now we loop over the trials and apply the model\n",
        "  for trial_num in range(num_trials-1):\n",
        "    # Calculate the PE at a certain trial\n",
        "    PE = ratings[trial_num] - prediction[trial_num]\n",
        "    # Update the next prediction\n",
        "    prediction = prediction + (alpha*PE*sim[trial_num,:])\n",
        "  return prediction"
      ],
      "metadata": {
        "id": "ZxyT7nuZYCKp"
      },
      "execution_count": null,
      "outputs": []
    },
    {
      "cell_type": "markdown",
      "source": [
        "# Quick look at these models\n",
        "Before we move on to real data lets have one quick look how they behave on simulated data."
      ],
      "metadata": {
        "id": "Ji5tRfjvYTpj"
      }
    },
    {
      "cell_type": "markdown",
      "source": [
        "Creating some simulated data:\n",
        "\n",
        "Explained in more detail in [Session 02](https://colab.research.google.com/drive/1ejIXmb6ZlGzfUkfkVC3ZIdJ32YX0JIFd?usp=sharing)"
      ],
      "metadata": {
        "id": "3MynpmqNZxug"
      }
    },
    {
      "cell_type": "code",
      "source": [
        "trials = 10 # number of trials within a factor\n",
        "big5avg = [2,3,7,5,7]\n",
        "\n",
        "# This creates the trials with ratings and adds some noise\n",
        "ratings = [[i+random() for i in big5avg for _ in range(trials)]][0]\n",
        "\n",
        "# Resets will indicate to the model when a new factor is presented\n",
        "resets = [0 for _ in range(trials)]\n",
        "resets[0] = 1\n",
        "resets = resets*5\n",
        "\n",
        "# Reference point\n",
        "rp = [[i for i in big5avg for _ in range(trials)]][0]"
      ],
      "metadata": {
        "id": "UP2GmJlhZIjr"
      },
      "execution_count": null,
      "outputs": []
    },
    {
      "cell_type": "markdown",
      "source": [
        "We also want to import some data.\n",
        "\n",
        "Download the four files from [this link](https://tinyurl.com/27uvk2m7) and upload *IPIP_sim.csv* in the data folder on the left. \n",
        "\n",
        "![data_upload.png](data:image/png;base64,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)"
      ],
      "metadata": {
        "id": "6hc5FjItdSKf"
      }
    },
    {
      "cell_type": "code",
      "source": [
        "# If you have uploaded it correctly this codeblock should run without error\n",
        "\n",
        "# IF you are getting errors:\n",
        "# Make sure you are in the base folder! Example: if you put the file in \n",
        "# sample_data instead you should add this to your path in the loadtxt() function\n",
        "# Like so: np.loadtxt('sample_data/IPIP_sim.csv, delimiter=',')\n",
        "\n",
        "# Similarity\n",
        "ipip_sim = np.loadtxt('IPIP_sim.csv', delimiter=',')"
      ],
      "metadata": {
        "id": "r2lC1YeDeVOl"
      },
      "execution_count": null,
      "outputs": []
    },
    {
      "cell_type": "markdown",
      "source": [
        "Here we run the three models on the simulated data"
      ],
      "metadata": {
        "id": "AAE9ET6dZuwJ"
      }
    },
    {
      "cell_type": "code",
      "source": [
        "# Parameters\n",
        "alpha = 0.1\n",
        "gamma = .5\n",
        "\n",
        "# This runs the models and gets their predictions\n",
        "pred_one = RW_model(ratings, resets, alpha)\n",
        "pred_two = RW_RP_model(ratings, resets, alpha, rp, gamma)\n",
        "pred_three = RW_SIM_model(ratings, alpha, ipip_sim)"
      ],
      "metadata": {
        "id": "WMpX8vR8ZqB2"
      },
      "execution_count": null,
      "outputs": []
    },
    {
      "cell_type": "code",
      "source": [
        "# Plotting the results\n",
        "# Model 01\n",
        "plt.subplot(2,2,1)\n",
        "plt.plot(ratings)\n",
        "plt.plot(pred_one)\n",
        "plt.title('Rescorla-Wagner Factor Model')\n",
        "plt.tight_layout()\n",
        "# Model 02\n",
        "plt.subplot(2,2,2)\n",
        "plt.plot(ratings)\n",
        "plt.plot(pred_two)\n",
        "plt.title('RW RP Model')\n",
        "plt.tight_layout()\n",
        "# Model 03\n",
        "plt.subplot(2,2,3)\n",
        "plt.plot(ratings)\n",
        "plt.plot(pred_three)\n",
        "plt.title('RW Similarity Model')\n",
        "plt.tight_layout()\n",
        "\n",
        "plt.figlegend(['Ratings','Predictions'])"
      ],
      "metadata": {
        "id": "y_BvJtmyZ85g"
      },
      "execution_count": null,
      "outputs": []
    },
    {
      "cell_type": "markdown",
      "source": [
        "You can change the parameters **alpha** and **gamma** and see how this changes the model predictions!"
      ],
      "metadata": {
        "id": "q1oohrtFcPI5"
      }
    },
    {
      "cell_type": "markdown",
      "source": [
        "# Behavioural data on a personality learning task\n",
        "Let's explore that data a little bit before we start work on the model fitting.\n",
        "\n",
        "## The task\n",
        "In this task participants learned about the personality traits of multiple profiles. They did this through making estimates/ guesses about specific traits and directly receiving feedback.\n",
        "\n",
        "![Task_Overview.png](data:image/png;base64,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)\n",
        "\n"
      ],
      "metadata": {
        "id": "btS7hP6PNfiO"
      }
    },
    {
      "cell_type": "markdown",
      "source": [
        "We have prepared some data already! You can upload it to this notebook in the data folder on the left side (*data_one.csv*, *data_two.csv*, *data_three.csv*). In the same way you upload the *IPIP_sim.csv* file before.\n",
        "\n",
        "This is the data from the experiment with IPIP data, we plotted the correlation matrix from this experiment in session 02. In this experiment participants learned about 5 profile for 50 items each.\n",
        "\n",
        "We will only plot the first 50 answers for now (i.e., the first profile) to keep the data a little more clean."
      ],
      "metadata": {
        "id": "U9ILYH2oebcg"
      }
    },
    {
      "cell_type": "code",
      "source": [
        "# Load some participant data!\n",
        "data = np.loadtxt('data_one.csv', delimiter=',')\n",
        "\n",
        "print('The shape of the data is:',np.shape(data),'\\n')\n",
        "# Data from participant one has 249 trials (1 missing), furthermore we collected\n",
        "# eight different kinds of data (thus 8 columns)\n",
        "\n",
        "# Let's plot the important parts of this data and see what it contains\n",
        "# The first column is the participants' answers (participant expectations)\n",
        "# Python is 0-indexed so the first column is column 0, 2nd is column 1 etc.\n",
        "plt.subplot(1,2,1)\n",
        "plt.plot(data[1:50,0])\n",
        "plt.title('Participant Answers')\n",
        "plt.xlabel('Trials')\n",
        "plt.ylabel('Ratings')\n",
        "plt.tight_layout()\n",
        "\n",
        "# And the second column are the profile answers (feedback)\n",
        "plt.subplot(1,2,2)\n",
        "plt.plot(data[1:50,1])\n",
        "plt.title('Profile Answers')\n",
        "plt.xlabel('Trials')\n",
        "plt.ylabel('Ratings')\n",
        "plt.tight_layout()\n",
        "\n",
        "# Other columns of interest are:\n",
        "# 3) Reference Point\n",
        "# 4) Profile Number\n",
        "# 5) Resets (for profiles and factors)\n",
        "# 7) Item numbers (for the similarity matrix)\n",
        "\n",
        "# The remaining columns we will not consider in this session"
      ],
      "metadata": {
        "id": "o6527h0nwGss"
      },
      "execution_count": null,
      "outputs": []
    },
    {
      "cell_type": "markdown",
      "source": [
        "As you can see, real data is a lot messier than simulated data. But no worries, this data is still perfectly fine to use!\n",
        "\n",
        "If you want to you can import the other two datasets and inspect their data before moving on."
      ],
      "metadata": {
        "id": "S72sLqo50Fg2"
      }
    },
    {
      "cell_type": "markdown",
      "source": [
        "# Model Fitting\n",
        "So how do we fit the models on the participant data?\n",
        "\n",
        "What we want to do is adjust the free parameters to 'fit' the data as good as possible. That is, the closer the *lines* of the model and participant data overlap the better the fit. Run the code below for a simulated example."
      ],
      "metadata": {
        "id": "w-Q8xMZb0U5s"
      }
    },
    {
      "cell_type": "code",
      "source": [
        "sim_data = np.random.randint(1,10,(50,1))\n",
        "\n",
        "good_fit = sim_data + np.random.rand(50,1)\n",
        "\n",
        "bad_fit = sim_data + np.random.randn(50,1)*5\n",
        "\n",
        "# Plotting\n",
        "plt.subplot(1,2,1)\n",
        "plt.plot(sim_data)\n",
        "plt.plot(good_fit)\n",
        "plt.title('Good Fitting')\n",
        "\n",
        "plt.subplot(1,2,2)\n",
        "plt.plot(sim_data)\n",
        "plt.plot(bad_fit)\n",
        "plt.title('Bad Fitting')"
      ],
      "metadata": {
        "id": "fWw1Iinl2wmX"
      },
      "execution_count": null,
      "outputs": []
    },
    {
      "cell_type": "markdown",
      "source": [
        "In the 'good fitting' panel the data (blue) and the model prediction (orange) overlap well. In contrary to the 'bad fitting' panel where there is very little overlap between model and data."
      ],
      "metadata": {
        "id": "5EEzvAlGgtwO"
      }
    },
    {
      "cell_type": "markdown",
      "source": [
        "As straigthforward as this procedure is, it is of course impossible for us to do this by hand! One parameter might still be possible but with two or more this task becomes untractable very fast! Luckily, there are algorithms that can take care of this for us. Even better, these algorithms are already implemented in functions so we can use them right away.\n",
        "\n",
        "We will use a function called [fmin](https://en.wikipedia.org/wiki/Nelder%E2%80%93Mead_method) that has been implemented in the scipy library."
      ],
      "metadata": {
        "id": "unNeimoa4xaM"
      }
    },
    {
      "cell_type": "markdown",
      "source": [
        "But before we start using these functions we have to adapt our models a little bit. The fmin algorithm needs to know how well the model is fitting for particular inputs. As a measure of fit we will use the [Sum of Squared Errors](https://en.wikipedia.org/wiki/Residual_sum_of_squares) we will calculate this inside the function and return the value."
      ],
      "metadata": {
        "id": "a_BtbBOZ7bFj"
      }
    },
    {
      "cell_type": "code",
      "source": [
        "def RW_model(alpha, data):\n",
        "  \"\"\" This is a simple Rescorla-Wagner model that takes as input:\n",
        "  data (matrix with data), and alpha (learning rate)\n",
        "  Return the SSE of the fit\"\"\"\n",
        "  num_trials = len(data)\n",
        "  # First we initialize a list of predictions at zero\n",
        "  prediction = [0 for _ in range(num_trials+1)]\n",
        "  # Now we loop over the trials and apply the model\n",
        "  for trial_num in range(num_trials-1):\n",
        "    # If it is the start of a new factor we predict the midpoint of the scale\n",
        "    # These resets are in column 5 of the data matrix\n",
        "    if data[trial_num,4] == 1:\n",
        "      prediction[trial_num] = 4.5\n",
        "\n",
        "    # Calculate the PE at a certain trial\n",
        "    # For this we want to use the 2nd column of the data (profile answers)\n",
        "    PE = data[trial_num,1] - prediction[trial_num]\n",
        "    # Update the next prediction\n",
        "    prediction[trial_num+1] = prediction[trial_num] + (alpha*PE)\n",
        "\n",
        "  # After the predictions have been calculated we want to see how well it fits\n",
        "  # We quantify this with the SSE\n",
        "  SSE = np.sum((prediction[:-1] - data[:,0])**2)\n",
        "  \n",
        "  return float(SSE)"
      ],
      "metadata": {
        "id": "lQnckMdY8cVi"
      },
      "execution_count": null,
      "outputs": []
    },
    {
      "cell_type": "markdown",
      "source": [
        "So now that we have rewritten the model to accept our data matrix and return a single value of fit (SSE) we can attempt to find the alpha value with the best fit.\n",
        "\n",
        "Can you find a good alpha value?"
      ],
      "metadata": {
        "id": "arDEOX_HhgFU"
      }
    },
    {
      "cell_type": "code",
      "source": [
        "# So if we now call the function with a specific alpha parameter and participant\n",
        "# data, it will return the SSE\n",
        "\n",
        "print('The SSE with alpha .2: ',RW_model(.2,data))\n",
        "print('The SSE with alpha .3: ',RW_model(.3,data))\n",
        "print('The SSE with alpha .4: ',RW_model(.4,data))"
      ],
      "metadata": {
        "id": "oDuEQu8XBApq"
      },
      "execution_count": null,
      "outputs": []
    },
    {
      "cell_type": "markdown",
      "source": [
        "So it should be a value > .2 but < .4, this might take us a long time to solve. Also, do not forget that this is only a single free parameter for a very simple model. This means that the SSE follows a curve, for any more complicated model with interactions between parameters finding the optimum gets progressively harder. Therefore let's use an optimization function to do it for us instead:"
      ],
      "metadata": {
        "id": "xiIF3FAzBbmb"
      }
    },
    {
      "cell_type": "code",
      "source": [
        "# First we import optimize from the Scipy library\n",
        "# This has the function we need\n",
        "import scipy.optimize"
      ],
      "metadata": {
        "id": "0l9osMGl69c9"
      },
      "execution_count": null,
      "outputs": []
    },
    {
      "cell_type": "code",
      "source": [
        "# This is how you make the call to use fmin\n",
        "param_model_1 = scipy.optimize.fmin(RW_model, x0=.1,args=(data,))\n",
        "print('\\nThe best fitting parameter:', param_model_1[0],'\\n')\n",
        "# fmin assumes that the first variable is the one that should be optimized\n",
        "# If you have more variables that are static (in our case data) they can be \n",
        "# added using the args parameter"
      ],
      "metadata": {
        "id": "9PmZy3Vf7Fw5"
      },
      "execution_count": null,
      "outputs": []
    },
    {
      "cell_type": "markdown",
      "source": [
        "The function will write some text that lets you know how the procedure went.\n",
        "\n",
        "Current function value is the SSE, we can double check this by inputting the retrieved alpha value back into the function:\n"
      ],
      "metadata": {
        "id": "6CNmfszeH274"
      }
    },
    {
      "cell_type": "code",
      "source": [
        "sse = RW_model(param_model_1,data)\n",
        "print('The SSE for the best alpha parameter is:',sse,'\\n')"
      ],
      "metadata": {
        "id": "dpSg3ax3Hy3u"
      },
      "execution_count": null,
      "outputs": []
    },
    {
      "cell_type": "markdown",
      "source": [
        "Let's adapt and fit the other two models on this dataset and see how well they fit.\n",
        "\n",
        "This can be a bit complicated, so no worries if you don't fully understand it."
      ],
      "metadata": {
        "id": "LgNCoyfaJtHI"
      }
    },
    {
      "cell_type": "code",
      "source": [
        "# Model 2\n",
        "def RW_RP_model(parameters, data):\n",
        "  \"\"\" This is a combined Rescorla-Wagner and RP model that takes as input:\n",
        "  ratings, reset (indicates new factor), alpha (learning rate),\n",
        "  RP (list of reference points), and gamma (weighting variable)\"\"\"\n",
        "  alpha = parameters[0]\n",
        "  gamma = parameters[1]\n",
        "\n",
        "  num_trials = len(data)\n",
        "  # First we initialize a list of predictions at zero\n",
        "  prediction = [0 for _ in range(num_trials+1)]\n",
        "  pred_w_RP  = [0 for _ in range(num_trials+1)]\n",
        "  # Now we loop over the trials and apply the model\n",
        "  for trial_num in range(num_trials-1):\n",
        "    # If it is the start of a new factor we predict the midpoint of the scale\n",
        "    # Resets are column 5\n",
        "    if data[trial_num,4] == 1:\n",
        "      prediction[trial_num] = 4.5\n",
        "\n",
        "    # Calculate the PE at a certain trial\n",
        "    PE = data[trial_num,1] - prediction[trial_num]\n",
        "    # Update the next prediction\n",
        "    prediction[trial_num+1] = prediction[trial_num] + (alpha*PE)\n",
        "    \n",
        "    # Here we add the RP part\n",
        "    pred_w_RP[trial_num] = gamma * data[trial_num,2] + ((1-gamma)*prediction[trial_num])\n",
        "\n",
        "  SSE = np.sum((pred_w_RP[:-1] - data[:,0])**2)\n",
        "  return float(SSE)"
      ],
      "metadata": {
        "id": "esf7X0BPJ5IG"
      },
      "execution_count": null,
      "outputs": []
    },
    {
      "cell_type": "code",
      "source": [
        "# Model 03\n",
        "def RW_SIM_model(alpha, data, sim):\n",
        "  \"\"\" This is a combined Rescorla-Wagner and Similarity model that takes as input:\n",
        "  ratings, alpha (learning rate), sim (correlation matrix of items)\"\"\"\n",
        "  # For this model we will split it up per profile\n",
        "  prediction = []\n",
        "  for prof in range(1,6):\n",
        "    # Take only the profile data\n",
        "    profData = data[data[:,3] == prof,:]\n",
        "    profLen = len(profData)\n",
        "    # First we initialize a list of predictions at the midpoint!\n",
        "    profPred = [4.5 for _ in range(profLen)]\n",
        "    # Now we loop over the trials and apply the model\n",
        "    for trial_num in range(profLen):\n",
        "      # Calculate the PE at a certain trial\n",
        "      PE = profData[trial_num,1] - profPred[trial_num]\n",
        "      # Update the next prediction\n",
        "      for idx in range(profLen):\n",
        "        profPred[idx] = profPred[idx] + (alpha*PE*sim[trial_num,int(profData[idx,6]-1)])\n",
        "    prediction = prediction + profPred\n",
        "  \n",
        "  SSE = np.sum((prediction - data[:,0])**2)\n",
        "  return SSE"
      ],
      "metadata": {
        "id": "tgDIoiCRip9Y"
      },
      "execution_count": null,
      "outputs": []
    },
    {
      "cell_type": "code",
      "source": [
        "param_model_2 = scipy.optimize.fmin(RW_RP_model, x0=[.1,.5],args=(data,))\n",
        "print('\\nThe best parameters for model 2 are, alpha:',param_model_2[0],'and gamma: ',param_model_2[1],'\\n')\n",
        "param_model_3 = scipy.optimize.fmin(RW_SIM_model, x0=.1, args=(data,ipip_sim))\n",
        "print('\\nThe best alpha parameter for model 3 is:',param_model_3[0],'\\n')"
      ],
      "metadata": {
        "id": "7aJW2eW8TQO5"
      },
      "execution_count": null,
      "outputs": []
    },
    {
      "cell_type": "markdown",
      "source": [
        "# But what does this all mean?\n",
        "So we now know how to build models and how to fit them to participants' data. But what does this actually tell us? How can we use this information to pick a best fitting model?\n",
        "\n",
        "We can use the [Bayesian Information Criterion (BIC)](https://en.wikipedia.org/wiki/Bayesian_information_criterion) as metric of fit. The BIC-value gives a good indication which of the models we are comparing is best at explaining participants' data. What's special about the BIC is that it takes the number of parameters of each model into account. This is important because arbitrarily adding parameters will make the model fit better (see [overfitting](https://en.wikipedia.org/wiki/Overfitting)) but does not help us explain the data. The BIC thus ensures that we will only add parameters when they are necessary in explaining an important part of the data. To calculate the BIC when using the SSE we use the following formula:\n",
        "\n",
        "$BIC = n * log(SSE/n) + κ*log(n)$\n",
        "\n",
        "where $n$ is the number of trials and $κ$ the number of parameters.\n",
        "\n",
        "Let's put this equation in a function that takes the three parameters and returns the BIC value:\n"
      ],
      "metadata": {
        "id": "yMh7tXQ3miFA"
      }
    },
    {
      "cell_type": "code",
      "source": [
        "def calc_BIC(SSE,numTrials,numParam):\n",
        "  \"\"\" Takes input SSE, number of trials, & number of parameters\n",
        "  returns the BIC value\"\"\"\n",
        "  bic = (numTrials * np.log(SSE/numTrials)) + (numParam*np.log(numTrials))\n",
        "  return bic"
      ],
      "metadata": {
        "id": "hEp9wSZfWeqN"
      },
      "execution_count": null,
      "outputs": []
    },
    {
      "cell_type": "markdown",
      "source": [
        "Let's now compare the BIC values from each of the models we just fit on the first participant."
      ],
      "metadata": {
        "id": "J_nB3K3CXoxk"
      }
    },
    {
      "cell_type": "code",
      "source": [
        "# First we'll get the SSE's back from the models\n",
        "SSE_one   = RW_model(param_model_1,data)\n",
        "SSE_two   = RW_RP_model(param_model_2, data)\n",
        "SSE_three = RW_SIM_model(param_model_3, data, ipip_sim)\n",
        "\n",
        "# Number of trials is the length of the data\n",
        "numTrials = len(data)\n",
        "\n",
        "bic_one   = calc_BIC(SSE_one,numTrials,1)   # Model 1 has 1 parameter\n",
        "bic_two   = calc_BIC(SSE_two,numTrials,2)   # Model 2 has 2 parameters\n",
        "bic_three = calc_BIC(SSE_three,numTrials,1) # Model 3 has 1 parameter\n",
        "\n",
        "print('The BIC for model 1 on participant one is:',bic_one,'\\n')\n",
        "print('The BIC for model 2 on participant one is:',bic_two,'\\n')\n",
        "print('The BIC for model 3 on participant one is:',bic_three,'\\n')"
      ],
      "metadata": {
        "id": "xWnwb_FSW8Nv"
      },
      "execution_count": null,
      "outputs": []
    },
    {
      "cell_type": "markdown",
      "source": [
        "So in this case Model 1 is the best fitting model with a slightly better fit than model 2.\n",
        "\n",
        "Of course this is an interesting way of looking at the data but it would be better to automate it a bit more. Let's put the data of the three participant together and run our analysis in a loop.\n",
        "\n",
        "Make sure you have *data_one.csv*, *data_two.csv*, & *data_three.csv* in you data folder on the left."
      ],
      "metadata": {
        "id": "EP1v8mnVbans"
      }
    },
    {
      "cell_type": "code",
      "source": [
        "# Load all the data and put it together in a tuple named data\n",
        "data_one = np.loadtxt('data_one.csv', delimiter=',')\n",
        "data_two = np.loadtxt('data_two.csv', delimiter=',')\n",
        "data_three = np.loadtxt('data_three.csv', delimiter=',')\n",
        "\n",
        "all_data = (data_one,data_two,data_three)"
      ],
      "metadata": {
        "id": "bVr-QI76de4T"
      },
      "execution_count": null,
      "outputs": []
    },
    {
      "cell_type": "markdown",
      "source": [
        "Why can't we put the data in a big 3 dimensional matrix?\n",
        "hint: have a look at the size (np.shape()) of each individual data set."
      ],
      "metadata": {
        "id": "CelhF_c_f54n"
      }
    },
    {
      "cell_type": "markdown",
      "source": [
        "Now we can loop over the data, fit the models, retrieve the SSE's, and calculate the BICs.\n",
        "\n",
        "Let's save all the values in separate matrices so we can have a look at them afterwards!\n"
      ],
      "metadata": {
        "id": "no1Y5r-LgNyj"
      }
    },
    {
      "cell_type": "code",
      "source": [
        "# Setup\n",
        "# These are all the values we want to save\n",
        "param_mat = np.zeros((3,3)) # Alpha parameters\n",
        "param_gam = np.zeros(3) # Gamma parameters for model 2\n",
        "sse_mat = np.zeros((3,3))\n",
        "bic_mat = np.zeros((3,3))\n",
        "\n",
        "# Loop over the data (enumerate allows us to have the index = idx)\n",
        "for idx, d in enumerate(all_data):\n",
        "  # Number of trials per participant\n",
        "  numTrials = len(d)\n",
        "\n",
        "  # -=-=-=-=-=-=-=-=- Model Fitting -=-=-=-=-=-=-=-=-\n",
        "  param_mat[idx,0] = scipy.optimize.fmin(RW_model, x0=.1,args=(d,))\n",
        "\n",
        "  # Because model 2 returns 2 parameters we need to save it a little different\n",
        "  param = scipy.optimize.fmin(RW_RP_model, x0=[.1,.5],args=(d,))\n",
        "  param_mat[idx,1] = param[0]\n",
        "  param_gam[idx] = param[1]\n",
        "  \n",
        "  param_mat[idx,2] = scipy.optimize.fmin(RW_SIM_model, x0=.1, args=(d,ipip_sim))\n",
        "\n",
        "  # -=-=-=-=-=-=-=-=- Calculating SSE's -=-=-=-=-=-=-=-=-\n",
        "  sse_mat[idx,0] = RW_model(param_mat[idx,0], d)\n",
        "  sse_mat[idx,1] = RW_RP_model([param[0],param[1]], d)\n",
        "  sse_mat[idx,2] = RW_SIM_model(param_mat[idx,2], d, ipip_sim)\n",
        "\n",
        "  # -=-=-=-=-=-=-=-=-  -=-=-=-=-=-=-=-=-\n",
        "  bic_mat[idx,0] = calc_BIC(sse_mat[idx,0],numTrials,1)\n",
        "  bic_mat[idx,1] = calc_BIC(sse_mat[idx,1],numTrials,2)\n",
        "  bic_mat[idx,2] = calc_BIC(sse_mat[idx,2],numTrials,1)\n",
        "  # -=-=-=-=-=-=-=-=- -=-=-=-=-=-=-=-=-\n"
      ],
      "metadata": {
        "id": "Ez2--fuTgoJU"
      },
      "execution_count": null,
      "outputs": []
    },
    {
      "cell_type": "code",
      "source": [
        "# Let's have a look at the BIC values we calculated\n",
        "print('This is the BIC matrix we calculated')\n",
        "print('Each row is a participant and each column a model')\n",
        "print(bic_mat,'\\n')\n",
        "\n",
        "# If we sum the BIC values we get an idea how good the models performed on average\n",
        "print('The summed BIC values for each model are:')\n",
        "bic_sum = np.sum(bic_mat,axis=0)\n",
        "print(bic_sum,'\\n')\n",
        "\n",
        "# In plotting we normally subtract the values from a reference value\n",
        "# Let's take model 3 here (because it has the worse fit).\n",
        "bicVal = np.zeros(3)\n",
        "for b in range(3):\n",
        "  bicVal[b] = bic_sum[b] - max(bic_sum)\n",
        "\n",
        "print(bicVal)"
      ],
      "metadata": {
        "id": "0e0JcHBcl2jr"
      },
      "execution_count": null,
      "outputs": []
    },
    {
      "cell_type": "markdown",
      "source": [
        "Let's plot the data and see what model is the best fit!"
      ],
      "metadata": {
        "id": "NpYE7VJbpUtq"
      }
    },
    {
      "cell_type": "code",
      "source": [
        "# Plot a horizontal bar plot\n",
        "plt.barh([3,2,1],bicVal)\n",
        "\n",
        "# Figure make-up\n",
        "plt.yticks([3,2,1])\n",
        "ax = plt.gca()\n",
        "ax.set_yticklabels(['Model 1 (RW)','Model 2 (RW & RP)','Model 3 (SIM)'])\n",
        "plt.xlabel('Summed BIC')\n",
        "plt.title('Results')\n",
        "plt.show()"
      ],
      "metadata": {
        "id": "a5GtGHnLpUJK"
      },
      "execution_count": null,
      "outputs": []
    },
    {
      "cell_type": "markdown",
      "source": [
        "# Conclusion\n",
        "So model 2 seems to be the best fitting model from the three we created. Of course, we only tested three participants so these results might still change with more participants.\n",
        "\n",
        "You have now had a real quick introduction to modelling. Due to time constraints we could only offer you a very broad look but the general idea should be there.\n",
        "\n",
        "To still mention some important stuff we skipped:\n",
        "* Model-Free analysis: *regular* analyses (e.g., correlations) that do not rely on computational modelling.\n",
        "* Confusion Matrix: to see if you can distinguish your models from one another. If you can't your model comparison makes no sense.\n",
        "* Parameter Recovery: to see if there parameters you receive from model fitting are also the ones that created the data."
      ],
      "metadata": {
        "id": "2c5-_cyCsDx8"
      }
    },
    {
      "cell_type": "markdown",
      "source": [
        "# Extra time\n",
        "* You can play around with all the plots (e.g., change the colors)!\n",
        "\n",
        "* You can also rewrite the analyses to be a lot smaller. E.g., can you output the SSE together with the parameters so you don't have to recalculate it ([Scipy Documentation](https://docs.scipy.org/doc/scipy-1.8.0/html-scipyorg/reference/generated/scipy.optimize.fmin.html))?\n",
        "\n",
        "* Implement one of your own models?\n",
        "\n",
        "* Have a look at creating a confusion matrix and parameter recover [good reference paper on modelling in general](https://elifesciences.org/articles/49547)"
      ],
      "metadata": {
        "id": "_ia3QOzptgey"
      }
    }
  ]
}